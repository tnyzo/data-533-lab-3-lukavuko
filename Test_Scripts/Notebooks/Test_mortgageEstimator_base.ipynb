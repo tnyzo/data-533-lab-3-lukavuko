{
 "cells": [
  {
   "cell_type": "code",
   "execution_count": 1,
   "metadata": {},
   "outputs": [],
   "source": [
    "from Mortgage_Package.mortgages.mortgage_estimator import *"
   ]
  },
  {
   "cell_type": "code",
   "execution_count": 2,
   "metadata": {},
   "outputs": [],
   "source": [
    "import unittest\n",
    "\n",
    "class Test_mortgage_estimator_base_functions(unittest.TestCase):\n",
    "    \n",
    "    @classmethod\n",
    "    def setUpClass(cls):\n",
    "        ## Import dependencies\n",
    "        import warnings, pandas as pd, numpy as np\n",
    "        print('!!! Class setup for Test(mortgage_estimator_base_functions) !!!')\n",
    "    \n",
    "    \n",
    "    def setUp(self):\n",
    "        ## Test values\n",
    "        self.downpayment = [0, 0, 0, 200000, 150000, 50000]\n",
    "        self.max_monthly_payment = np.linspace(1500, 11000, 4)\n",
    "        self.principal = 600000\n",
    "        self.mortgage_rate = 2.6\n",
    "        self.price = ['4000000', -400000, 0, 400000, 800000, 1200000]\n",
    "        self.term = [-1, 0.5, 1, 5.5, 10, 12]\n",
    "        self.amortization_years = [1, 8, 16, 24]\n",
    "        self.amortization_months = [12, 96, 192, 288]\n",
    "        print('~~~ start test ~~~')\n",
    "        \n",
    "        \n",
    "    def test_min_downpayment(self):\n",
    "        self.expected = [None, None, 0, 20000, 55000, 240000]\n",
    "        for i in range(6):\n",
    "            self.assertEqual(min_downpayment(self.price[i]), self.expected[i])   \n",
    "        \n",
    "    def test_mort_rate(self):\n",
    "        \n",
    "        self.expected = [None, None, 1.668, 2.005, 3.018, 3.686]\n",
    "        for i in range(6):\n",
    "            self.assertEqual(mort_rate(self.term[i]), self.expected[i])\n",
    "        \n",
    "    def test_mortgage_insurance(self):\n",
    "        self.expected = [None, None, None, 0, 16026.85, None]\n",
    "        for i in range(6):\n",
    "            self.assertEqual(mortgage_insurance(self.price[i], self.downpayment[i]), self.expected[i])\n",
    "    \n",
    "    def test_monthly_payment(self):\n",
    "\n",
    "        self.expected1 = [50706.96, 6929.26, 3823.27, 2802.68]\n",
    "        self.expected2 = [4854.89, 1417.11, 1308.94, 1300.73]\n",
    "        for i in range(4):\n",
    "            self.assertEqual(monthly_payment(self.principal, self.mortgage_rate, self.amortization_years[i], months = False),\n",
    "                             self.expected1[i])\n",
    "            self.assertEqual(monthly_payment(self.principal, self.mortgage_rate, self.amortization_months[i], months = True),\n",
    "                             self.expected2[i])\n",
    "        \n",
    "    def test_optimal_monthly_payment(self):\n",
    "        self.expected = [[np.nan, np.nan], [4536.83, 13], [7820.28, 7], [10674.89, 5]]\n",
    "        for i in range(4):\n",
    "            self.assertEqual(optimal_monthly_payment(self.principal, self.mortgage_rate, self.max_monthly_payment[i]),\n",
    "                             self.expected[i])\n",
    "\n",
    "    def test_total_interest(self):\n",
    "        self.expected = [796440.43, 104031.41, 56784.2, 39211.53]\n",
    "        for i in range(4):\n",
    "            self.assertEqual(total_interest(self.principal, self.mortgage_rate, self.max_monthly_payment[i]),\n",
    "                             self.expected[i])\n",
    "        \n",
    "        ## handling test for insufficient monthly income leading to infinitely large interest\n",
    "        self.assertIsNone(total_interest(self.principal, self.mortgage_rate, 100), None)\n",
    "        \n",
    "            \n",
    "    def tearDown(self):\n",
    "        print('~~~ complete ~~~')  \n",
    "        \n",
    "    @classmethod\n",
    "    def tearDownClass(cls):\n",
    "        print('!!! Class teardown for Test(mortgage_estimator_base_functions) !!!\\n\\n\\n')"
   ]
  },
  {
   "cell_type": "code",
   "execution_count": 3,
   "metadata": {},
   "outputs": [
    {
     "name": "stderr",
     "output_type": "stream",
     "text": [
      "test_min_downpayment (__main__.Test_mortgage_estimator_base_functions) ... ok\n",
      "test_monthly_payment (__main__.Test_mortgage_estimator_base_functions) ... ok\n",
      "test_mort_rate (__main__.Test_mortgage_estimator_base_functions) ... ok\n",
      "test_mortgage_insurance (__main__.Test_mortgage_estimator_base_functions) ... ok\n",
      "test_optimal_monthly_payment (__main__.Test_mortgage_estimator_base_functions) ... ok\n",
      "test_total_interest (__main__.Test_mortgage_estimator_base_functions) ... "
     ]
    },
    {
     "name": "stdout",
     "output_type": "stream",
     "text": [
      "!!! Class setup for Test(mortgage_estimator_base_functions) !!!\n",
      "~~~ start test ~~~\n",
      "Invalid price\n",
      "Invalid price\n",
      "~~~ complete ~~~\n",
      "~~~ start test ~~~\n",
      "~~~ complete ~~~\n",
      "~~~ start test ~~~\n",
      "Not a viable term length; must be at least 1.\n",
      "Not a viable term length; must be at least 1.\n",
      "Warning: Term lengths are typically in whole years not fractions of years.\n",
      "Warning: Term lengths greater than 10 years are not typically available.\n",
      "~~~ complete ~~~\n",
      "~~~ start test ~~~\n",
      "Input variables must be numeric\n",
      "Downpayment must be at least 5% the asset value\n",
      "Price cannot be zero\n",
      "Downpayment must be at least 5% the asset value\n",
      "~~~ complete ~~~\n",
      "~~~ start test ~~~\n",
      "~~~ complete ~~~\n",
      "~~~ start test ~~~\n",
      "Monthly contribution is insufficient to pay off the original Principal.\n",
      "~~~ complete ~~~\n",
      "!!! Class teardown for Test(mortgage_estimator_base_functions) !!!\n",
      "\n",
      "\n",
      "\n"
     ]
    },
    {
     "name": "stderr",
     "output_type": "stream",
     "text": [
      "ok\n",
      "\n",
      "----------------------------------------------------------------------\n",
      "Ran 6 tests in 0.009s\n",
      "\n",
      "OK\n"
     ]
    },
    {
     "data": {
      "text/plain": [
       "<unittest.main.TestProgram at 0x2bde76591c0>"
      ]
     },
     "execution_count": 3,
     "metadata": {},
     "output_type": "execute_result"
    }
   ],
   "source": [
    "unittest.main(argv=[''], verbosity=2, exit=False)"
   ]
  },
  {
   "cell_type": "code",
   "execution_count": null,
   "metadata": {},
   "outputs": [],
   "source": []
  }
 ],
 "metadata": {
  "kernelspec": {
   "display_name": "Python 3",
   "language": "python",
   "name": "python3"
  },
  "language_info": {
   "codemirror_mode": {
    "name": "ipython",
    "version": 3
   },
   "file_extension": ".py",
   "mimetype": "text/x-python",
   "name": "python",
   "nbconvert_exporter": "python",
   "pygments_lexer": "ipython3",
   "version": "3.8.3"
  }
 },
 "nbformat": 4,
 "nbformat_minor": 4
}
