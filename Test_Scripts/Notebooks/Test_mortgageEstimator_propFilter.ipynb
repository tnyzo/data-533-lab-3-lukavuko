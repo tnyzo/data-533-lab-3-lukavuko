{
 "cells": [
  {
   "cell_type": "code",
   "execution_count": 1,
   "metadata": {},
   "outputs": [],
   "source": [
    "from Mortgage_Package.mortgages.mortgage_estimator import *"
   ]
  },
  {
   "cell_type": "code",
   "execution_count": 2,
   "metadata": {},
   "outputs": [],
   "source": [
    "import unittest\n",
    "\n",
    "class Test_mortgage_estimator_propertyfilter(unittest.TestCase):\n",
    "    \n",
    "    @classmethod\n",
    "    def setUpClass(cls):\n",
    "        ## Import dependencies\n",
    "        import warnings, pandas as pd, numpy as np\n",
    "        print('!!! Class setup for Test(mortgage_estimator_propertyfilter) !!!')\n",
    "    \n",
    "    def setUp(self):\n",
    "        ## Import property dataset\n",
    "        self.df = pd.read_csv('vancouver_area_testing_set.csv', header = 0)\n",
    "        self.df = self.df.loc[:,['Area', 'House Price']]\n",
    "        \n",
    "        ## Prior knowns for 4 test sets for the property filter \n",
    "        self.downpayment = np.linspace(100000, 600000, 4)\n",
    "        self.mortgage_rate = np.linspace(1.6, 3.8, 4)\n",
    "        self.mortgage_term = np.linspace(1, 10, 4)\n",
    "        self.max_monthly_payment = np.linspace(1500, 11000, 4)\n",
    "        self.max_loan = np.linspace(100000, 600000, 4)/0.05 \n",
    "        \n",
    "        print('~~~ start test ~~~')\n",
    "        \n",
    "        \n",
    "    def test_property_filter(self):\n",
    "        self.expected1 = [True, 'East Burnaby', 'North Vancouver', 'North Vancouver']\n",
    "        self.expected2 = [True, 'East Burnaby', 'North Vancouver', 'West Vancouver']\n",
    "        \n",
    "        ## Test first case to ensure returned dataframe is empty:\n",
    "        self.assertTrue(property_filter(property_data = self.df,\n",
    "                                        downpayment = self.downpayment[0],\n",
    "                                        mortgage_rate = self.mortgage_rate[0],\n",
    "                                        max_monthly_payment = self.max_monthly_payment[0],\n",
    "                                        max_loan = self.max_loan[0]).empty) \n",
    "        self.assertTrue(property_filter(property_data = self.df,\n",
    "                                        downpayment = self.downpayment[0],\n",
    "                                        mortgage_term = self.mortgage_term[0],\n",
    "                                        max_monthly_payment = self.max_monthly_payment[0],\n",
    "                                        max_loan = self.max_loan[0]).empty)\n",
    "        \n",
    "        ## Test last three cases where return is a non empty dataframe\n",
    "        for i in range(1, 4):\n",
    "            \n",
    "            ## Testing with known mortgage rate\n",
    "            self.assertEqual((property_filter(property_data = self.df,\n",
    "                                             downpayment = self.downpayment[i],\n",
    "                                             mortgage_rate = self.mortgage_rate[i],\n",
    "                                             max_monthly_payment = self.max_monthly_payment[i],\n",
    "                                             max_loan = self.max_loan[i]).iloc[0, 0]), self.expected1[i]) \n",
    "\n",
    "            ## Testing with unknown mortgage rate\n",
    "            self.assertEqual(property_filter(property_data = self.df,\n",
    "                                             downpayment = self.downpayment[i],\n",
    "                                             mortgage_term = self.mortgage_term[i],\n",
    "                                             max_monthly_payment = self.max_monthly_payment[i],\n",
    "                                             max_loan = self.max_loan[i]).iloc[0, 0], self.expected2[i])\n",
    "\n",
    "            \n",
    "    def tearDown(self):\n",
    "        print('~~~ complete ~~~')  \n",
    "        \n",
    "    @classmethod\n",
    "    def tearDownClass(cls):\n",
    "        print('!!! Class teardown for Test(mortgage_estimator_propertyfilter) !!!\\n\\n\\n')"
   ]
  },
  {
   "cell_type": "code",
   "execution_count": 3,
   "metadata": {},
   "outputs": [
    {
     "name": "stderr",
     "output_type": "stream",
     "text": [
      "test_property_filter (__main__.Test_mortgage_estimator_propertyfilter) ... "
     ]
    },
    {
     "name": "stdout",
     "output_type": "stream",
     "text": [
      "!!! Class setup for Test(mortgage_estimator_propertyfilter) !!!\n",
      "~~~ start test ~~~\n",
      "You can afford 0 properties from the 25 you've provided.\n",
      "Warning: Term lengths are typically in whole years not fractions of years.\n",
      "You can afford 0 properties from the 25 you've provided.\n",
      "You can afford 16 properties from the 25 you've provided.\n",
      "Warning: Term lengths are typically in whole years not fractions of years.\n",
      "You can afford 16 properties from the 25 you've provided.\n",
      "You can afford 23 properties from the 25 you've provided.\n",
      "Warning: Term lengths are typically in whole years not fractions of years.\n",
      "You can afford 23 properties from the 25 you've provided.\n",
      "You can afford 23 properties from the 25 you've provided.\n",
      "Warning: Term lengths are typically in whole years not fractions of years.\n",
      "You can afford 24 properties from the 25 you've provided.\n",
      "~~~ complete ~~~\n",
      "!!! Class teardown for Test(mortgage_estimator_propertyfilter) !!!\n",
      "\n",
      "\n",
      "\n"
     ]
    },
    {
     "name": "stderr",
     "output_type": "stream",
     "text": [
      "ok\n",
      "\n",
      "----------------------------------------------------------------------\n",
      "Ran 1 test in 0.119s\n",
      "\n",
      "OK\n"
     ]
    },
    {
     "data": {
      "text/plain": [
       "<unittest.main.TestProgram at 0x2366d151c40>"
      ]
     },
     "execution_count": 3,
     "metadata": {},
     "output_type": "execute_result"
    }
   ],
   "source": [
    "unittest.main(argv=[''], verbosity=2, exit=False)"
   ]
  },
  {
   "cell_type": "code",
   "execution_count": null,
   "metadata": {},
   "outputs": [],
   "source": []
  }
 ],
 "metadata": {
  "kernelspec": {
   "display_name": "Python 3",
   "language": "python",
   "name": "python3"
  },
  "language_info": {
   "codemirror_mode": {
    "name": "ipython",
    "version": 3
   },
   "file_extension": ".py",
   "mimetype": "text/x-python",
   "name": "python",
   "nbconvert_exporter": "python",
   "pygments_lexer": "ipython3",
   "version": "3.8.3"
  }
 },
 "nbformat": 4,
 "nbformat_minor": 4
}
