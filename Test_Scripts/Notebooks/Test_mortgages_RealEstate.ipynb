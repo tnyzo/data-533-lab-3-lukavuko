{
 "cells": [
  {
   "cell_type": "code",
   "execution_count": 1,
   "metadata": {},
   "outputs": [],
   "source": [
    "from Mortgage_Package.mortgages.mortgages import *"
   ]
  },
  {
   "cell_type": "code",
   "execution_count": 2,
   "metadata": {},
   "outputs": [],
   "source": [
    "import unittest\n",
    "\n",
    "class Test_mortgages_RealEstate(unittest.TestCase):\n",
    "    \n",
    "    @classmethod\n",
    "    def setUpClass(cls):\n",
    "        print('!!! Class setup for Test(mortgages_RealEstate) !!!')\n",
    "    \n",
    "    def setUp(self):\n",
    "        self.prop1 = RealEstate(prop = 'Clearview Residential Five Story Apartment',\n",
    "                                price = 4800000,\n",
    "                                prop_owner = 'Brookfield Asset Management',\n",
    "                                prov = 'ON')\n",
    "        self.prop2 = RealEstate(prop = 'Surrey Community Centre',\n",
    "                                price = 1905000,\n",
    "                                prop_owner = 'City of Vancouver',\n",
    "                                prov = 'BC')\n",
    "        print('~~~ start test ~~~')\n",
    "\n",
    "    \n",
    "    def test_getProp(self):\n",
    "        self.assertEqual(self.prop1.getProp(), 'Clearview Residential Five Story Apartment')\n",
    "        self.assertEqual(self.prop2.getProp(), 'Surrey Community Centre')\n",
    "        \n",
    "        ## Change values\n",
    "        self.prop1.prop = 'X'\n",
    "        self.prop2.prop = 'Y'\n",
    "        \n",
    "        self.assertNotEqual(self.prop1.getProp(), 'Clearview Residential Five Story Apartment')\n",
    "        self.assertNotEqual(self.prop2.getProp(), 'Surrey Community Centre')\n",
    "    \n",
    "    \n",
    "    def test_getPrice(self):\n",
    "        self.assertEqual(self.prop1.getPrice(), 4800000)\n",
    "        self.assertEqual(self.prop2.getPrice(), 1905000)\n",
    "        self.assertEqual(self.prop1.getPrice() + self.prop2.getPrice(), 4800000 + 1905000)\n",
    "        \n",
    "        ## Change values\n",
    "        self.prop1.price = 0\n",
    "        self.prop2.price = 0\n",
    "        \n",
    "        self.assertNotEqual(self.prop1.getPrice(), 4800000)\n",
    "        self.assertNotEqual(self.prop2.getPrice(), 1905000)\n",
    "   \n",
    "\n",
    "    def test_getPropOwner(self):\n",
    "        self.assertEqual(self.prop1.getPropOwner(), 'Brookfield Asset Management')\n",
    "        self.assertEqual(self.prop2.getPropOwner(), 'City of Vancouver')\n",
    "        \n",
    "        ## Change values\n",
    "        self.prop1.prop_owner = 'X'\n",
    "        self.prop2.prop_owner = 'Y'\n",
    "        \n",
    "        self.assertNotEqual(self.prop1.getPropOwner(), 'Brookfield Asset Management')\n",
    "        self.assertNotEqual(self.prop2.getPropOwner(), 'City of Vancouver')\n",
    "        \n",
    "        \n",
    "    def test_getProv(self):\n",
    "        self.assertEqual(self.prop1.getProv(), 'ON')\n",
    "        self.assertEqual(self.prop2.getProv(), 'BC')\n",
    "    \n",
    "        ## Change values\n",
    "        self.prop1.prov = 'X'\n",
    "        self.prop2.prov = 'Y'\n",
    "        \n",
    "        self.assertNotEqual(self.prop1.getProv(), 'ON')\n",
    "        self.assertNotEqual(self.prop2.getProv(), 'BC')\n",
    "        \n",
    "        \n",
    "    def tearDown(self):\n",
    "        print('~~~ complete ~~~')  \n",
    "        \n",
    "    @classmethod\n",
    "    def tearDownClass(cls):\n",
    "        print('!!! Class teardown for Test(mortgages_RealEstate) !!!\\n\\n\\n')"
   ]
  },
  {
   "cell_type": "code",
   "execution_count": 3,
   "metadata": {},
   "outputs": [
    {
     "name": "stderr",
     "output_type": "stream",
     "text": [
      "test_getPrice (__main__.Test_mortgages_RealEstate) ... ok\n",
      "test_getProp (__main__.Test_mortgages_RealEstate) ... ok\n",
      "test_getPropOwner (__main__.Test_mortgages_RealEstate) ... ok\n",
      "test_getProv (__main__.Test_mortgages_RealEstate) ... "
     ]
    },
    {
     "name": "stdout",
     "output_type": "stream",
     "text": [
      "!!! Class setup for Test(mortgages_RealEstate) !!!\n",
      "~~~ start test ~~~\n",
      "~~~ complete ~~~\n",
      "~~~ start test ~~~\n",
      "~~~ complete ~~~\n",
      "~~~ start test ~~~\n",
      "~~~ complete ~~~\n",
      "~~~ start test ~~~\n",
      "~~~ complete ~~~\n",
      "!!! Class teardown for Test(mortgages_RealEstate) !!!\n",
      "\n",
      "\n",
      "\n"
     ]
    },
    {
     "name": "stderr",
     "output_type": "stream",
     "text": [
      "ok\n",
      "\n",
      "----------------------------------------------------------------------\n",
      "Ran 4 tests in 0.005s\n",
      "\n",
      "OK\n"
     ]
    },
    {
     "data": {
      "text/plain": [
       "<unittest.main.TestProgram at 0x212acfaf520>"
      ]
     },
     "execution_count": 3,
     "metadata": {},
     "output_type": "execute_result"
    }
   ],
   "source": [
    "unittest.main(argv=[''], verbosity=2, exit=False)"
   ]
  },
  {
   "cell_type": "code",
   "execution_count": null,
   "metadata": {},
   "outputs": [],
   "source": []
  }
 ],
 "metadata": {
  "kernelspec": {
   "display_name": "Python 3",
   "language": "python",
   "name": "python3"
  },
  "language_info": {
   "codemirror_mode": {
    "name": "ipython",
    "version": 3
   },
   "file_extension": ".py",
   "mimetype": "text/x-python",
   "name": "python",
   "nbconvert_exporter": "python",
   "pygments_lexer": "ipython3",
   "version": "3.8.3"
  }
 },
 "nbformat": 4,
 "nbformat_minor": 4
}
