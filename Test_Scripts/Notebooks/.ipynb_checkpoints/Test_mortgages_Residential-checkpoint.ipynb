{
 "cells": [
  {
   "cell_type": "code",
   "execution_count": 1,
   "metadata": {},
   "outputs": [],
   "source": [
    "from Mortgage_Package.mortgages.mortgages import *"
   ]
  },
  {
   "cell_type": "code",
   "execution_count": 2,
   "metadata": {},
   "outputs": [],
   "source": [
    "import unittest\n",
    "\n",
    "class Test_mortgages_Residential(unittest.TestCase):\n",
    "    \n",
    "    @classmethod\n",
    "    def setUpClass(cls):\n",
    "        print('!!! Class setup for Test(mortgages_Residential) !!!')\n",
    "    \n",
    "    def setUp(self):\n",
    "        self.home1 = Residential(prop = 'The Bronson Home',        ## tested\n",
    "                       price = 680000,                             ## tested\n",
    "                       prop_owner = 'Brookfield Asset Management', ## tested\n",
    "                       area = 'Quinterra', \n",
    "                       city = 'Ottawa',\n",
    "                       prov = 'ON',                                ## tested\n",
    "                       sq_footage = 2600,\n",
    "                       year_built = 2003)\n",
    "        self.home2 = Residential(prop = 'Mill Cottage',            ## tested\n",
    "                       price = 1950260,                            ## tested\n",
    "                       prop_owner = 'Big Houses Inc.',             ## tested\n",
    "                       area = 'Rockcliff',\n",
    "                       city = 'Ottawa',\n",
    "                       prov = 'ON',                                ## tested\n",
    "                       sq_footage = 8600,\n",
    "                       year_built = 1926)\n",
    "        print('~~~ start test ~~~')\n",
    "\n",
    "    \n",
    "    def test_getArea(self):\n",
    "        self.assertEqual(self.home1.getArea(), 'Quinterra')\n",
    "        self.assertEqual(self.home2.getArea(), 'Rockcliff')\n",
    "        \n",
    "        ## Change values\n",
    "        self.home1.area = 'X'\n",
    "        self.home2.area = 'Y'\n",
    "        \n",
    "        self.assertNotEqual(self.home1.getArea(), 'Quinterra')\n",
    "        self.assertNotEqual(self.home2.getArea(), 'Rockcliff')\n",
    "    \n",
    "    \n",
    "    def test_getCity(self):\n",
    "        self.assertEqual(self.home1.getCity(), 'Ottawa')\n",
    "        self.assertEqual(self.home2.getCity(), 'Ottawa')\n",
    "\n",
    "        ## Change values\n",
    "        self.home1.city = 'X'\n",
    "        self.home2.city = 'Y'\n",
    "        \n",
    "        self.assertNotEqual(self.home1.getCity(), 'Quinterra')\n",
    "        self.assertNotEqual(self.home2.getCity(), 'Rockcliff')\n",
    "        \n",
    "        \n",
    "    def test_getSq_footage(self):\n",
    "        self.assertEqual(self.home1.getSq_footage(), 2600)\n",
    "        self.assertEqual(self.home2.getSq_footage(), 8600)\n",
    "        \n",
    "        ## Change values\n",
    "        self.home1.sq_footage = 0\n",
    "        self.home2.sq_footage = 0\n",
    "        \n",
    "        self.assertNotEqual(self.home1.getSq_footage(), 2600)\n",
    "        self.assertNotEqual(self.home2.getSq_footage(), 8600)\n",
    "        \n",
    "        \n",
    "    def test_getYear_built(self):\n",
    "        self.assertEqual(self.home1.getYear_built(), 2003)\n",
    "        self.assertEqual(self.home2.getYear_built(), 1926)\n",
    "    \n",
    "        ## Change values\n",
    "        self.home1.year_built = 0\n",
    "        self.home2.year_built = 0\n",
    "        \n",
    "        self.assertNotEqual(self.home1.getYear_built(), 2600)\n",
    "        self.assertNotEqual(self.home2.getYear_built(), 8600)   \n",
    "    \n",
    "    \n",
    "    def tearDown(self):\n",
    "        print('~~~ complete ~~~')  \n",
    "        \n",
    "    @classmethod\n",
    "    def tearDownClass(cls):\n",
    "        print('!!! Class teardown for Test(mortgages_Residential) !!!\\n\\n\\n')"
   ]
  },
  {
   "cell_type": "code",
   "execution_count": 3,
   "metadata": {},
   "outputs": [
    {
     "name": "stderr",
     "output_type": "stream",
     "text": [
      "test_getArea (__main__.Test_mortgages_Residential) ... ok\n",
      "test_getCity (__main__.Test_mortgages_Residential) ... ok\n",
      "test_getSq_footage (__main__.Test_mortgages_Residential) ... ok\n",
      "test_getYear_built (__main__.Test_mortgages_Residential) ... "
     ]
    },
    {
     "name": "stdout",
     "output_type": "stream",
     "text": [
      "!!! Class setup for Test(mortgages_Residential) !!!\n",
      "~~~ start test ~~~\n",
      "~~~ complete ~~~\n",
      "~~~ start test ~~~\n",
      "~~~ complete ~~~\n",
      "~~~ start test ~~~\n",
      "~~~ complete ~~~\n",
      "~~~ start test ~~~\n",
      "~~~ complete ~~~\n",
      "!!! Class teardown for Test(mortgages_Residential) !!!\n",
      "\n",
      "\n",
      "\n"
     ]
    },
    {
     "name": "stderr",
     "output_type": "stream",
     "text": [
      "ok\n",
      "\n",
      "----------------------------------------------------------------------\n",
      "Ran 4 tests in 0.005s\n",
      "\n",
      "OK\n"
     ]
    },
    {
     "data": {
      "text/plain": [
       "<unittest.main.TestProgram at 0x1b898ef32b0>"
      ]
     },
     "execution_count": 3,
     "metadata": {},
     "output_type": "execute_result"
    }
   ],
   "source": [
    "unittest.main(argv=[''], verbosity=2, exit=False)"
   ]
  },
  {
   "cell_type": "code",
   "execution_count": null,
   "metadata": {},
   "outputs": [],
   "source": []
  }
 ],
 "metadata": {
  "kernelspec": {
   "display_name": "Python 3",
   "language": "python",
   "name": "python3"
  },
  "language_info": {
   "codemirror_mode": {
    "name": "ipython",
    "version": 3
   },
   "file_extension": ".py",
   "mimetype": "text/x-python",
   "name": "python",
   "nbconvert_exporter": "python",
   "pygments_lexer": "ipython3",
   "version": "3.8.3"
  }
 },
 "nbformat": 4,
 "nbformat_minor": 4
}
