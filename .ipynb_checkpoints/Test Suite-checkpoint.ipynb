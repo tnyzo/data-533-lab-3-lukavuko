{
 "cells": [
  {
   "cell_type": "code",
   "execution_count": 1,
   "metadata": {},
   "outputs": [],
   "source": [
    "import unittest"
   ]
  },
  {
   "cell_type": "code",
   "execution_count": 6,
   "metadata": {},
   "outputs": [],
   "source": [
    "from Test_Scripts.Test_mortgages_RealEstate import *\n",
    "from Test_Scripts.Test_mortgages_Residential import *\n",
    "from Test_Scripts.Test_mortgageEstimator_base import *\n",
    "from Test_Scripts.Test_mortgageEstimator_propFilter import *\n",
    "\n",
    "from Test_Scripts.Test_debtServiceRatio_ratio import *\n",
    "#from Test_Scripts.Test_debtServiceRatio_mortage import *\n",
    "from Test_Scripts.Test_cr_conversion import *\n",
    "from Test_Scripts.Test_cr_score import *"
   ]
  },
  {
   "cell_type": "code",
   "execution_count": 7,
   "metadata": {},
   "outputs": [
    {
     "name": "stderr",
     "output_type": "stream",
     "text": [
      ".............."
     ]
    },
    {
     "name": "stdout",
     "output_type": "stream",
     "text": [
      "!!! Class setup for Test(mortgages_RealEstate) !!!\n",
      "~~~ start test ~~~\n",
      "~~~ complete ~~~\n",
      "~~~ start test ~~~\n",
      "~~~ complete ~~~\n",
      "~~~ start test ~~~\n",
      "~~~ complete ~~~\n",
      "~~~ start test ~~~\n",
      "~~~ complete ~~~\n",
      "!!! Class teardown for Test(mortgages_RealEstate) !!!\n",
      "\n",
      "\n",
      "\n",
      "!!! Class setup for Test(mortgages_Residential) !!!\n",
      "~~~ start test ~~~\n",
      "~~~ complete ~~~\n",
      "~~~ start test ~~~\n",
      "~~~ complete ~~~\n",
      "~~~ start test ~~~\n",
      "~~~ complete ~~~\n",
      "~~~ start test ~~~\n",
      "~~~ complete ~~~\n",
      "!!! Class teardown for Test(mortgages_Residential) !!!\n",
      "\n",
      "\n",
      "\n",
      "!!! Class setup for Test(mortgage_estimator_base_functions) !!!\n",
      "~~~ start test ~~~\n",
      "Invalid price\n",
      "Invalid price\n",
      "~~~ complete ~~~\n",
      "~~~ start test ~~~\n",
      "~~~ complete ~~~\n",
      "~~~ start test ~~~\n",
      "Not a viable term length; must be at least 1.\n",
      "Not a viable term length; must be at least 1.\n",
      "Warning: Term lengths are typically in whole years not fractions of years.\n",
      "Warning: Term lengths greater than 10 years are not typically available.\n",
      "~~~ complete ~~~\n",
      "~~~ start test ~~~\n",
      "Input variables must be numeric\n",
      "Downpayment must be at least 5% the asset value\n",
      "Price cannot be zero\n",
      "Downpayment must be at least 5% the asset value\n",
      "~~~ complete ~~~\n",
      "~~~ start test ~~~\n",
      "~~~ complete ~~~\n",
      "~~~ start test ~~~\n",
      "Monthly contribution is insufficient to pay off the original Principal.\n",
      "~~~ complete ~~~\n",
      "!!! Class teardown for Test(mortgage_estimator_base_functions) !!!\n",
      "\n",
      "\n",
      "\n",
      "!!! Class setup for Test(mortgage_estimator_propertyfilter) !!!\n",
      "~~~ start test ~~~\n",
      "You can afford 0 properties from the 25 you've provided.\n",
      "Warning: Term lengths are typically in whole years not fractions of years.\n",
      "You can afford 0 properties from the 25 you've provided.\n",
      "You can afford 16 properties from the 25 you've provided.\n",
      "Warning: Term lengths are typically in whole years not fractions of years.\n",
      "You can afford 16 properties from the 25 you've provided.\n",
      "You can afford 23 properties from the 25 you've provided.\n",
      "Warning: Term lengths are typically in whole years not fractions of years.\n"
     ]
    },
    {
     "name": "stderr",
     "output_type": "stream",
     "text": [
      "......EE"
     ]
    },
    {
     "name": "stdout",
     "output_type": "stream",
     "text": [
      "You can afford 23 properties from the 25 you've provided.\n",
      "You can afford 23 properties from the 25 you've provided.\n",
      "Warning: Term lengths are typically in whole years not fractions of years.\n",
      "You can afford 24 properties from the 25 you've provided.\n",
      "~~~ complete ~~~\n",
      "!!! Class teardown for Test(mortgage_estimator_propertyfilter) !!!\n",
      "\n",
      "\n",
      "\n",
      "Class setup for Debt Service Ratio\n",
      "start test\n",
      "test complete\n",
      "start test\n",
      "test complete\n",
      "Class teardown for Debt Service Ratio\n",
      "Class setup for Credit Rating Conversions\n",
      "start test\n",
      "test complete\n",
      "start test\n",
      "test complete\n",
      "start test\n",
      "test complete\n",
      "Class teardown for Credit Rating Conversions\n",
      "Class setup for Credit Rating Score\n",
      "Class teardown for Credit Rating Score\n",
      "<unittest.runner.TextTestResult run=22 errors=2 failures=0>\n"
     ]
    },
    {
     "name": "stderr",
     "output_type": "stream",
     "text": [
      "\n",
      "======================================================================\n",
      "ERROR: test_cr_approval (Test_Scripts.Test_cr_score.Test_cr_score)\n",
      "----------------------------------------------------------------------\n",
      "Traceback (most recent call last):\n",
      "  File \"C:\\Users\\Luka\\OneDrive - The University Of British Columbia\\data_533\\labs\\lab3\\Testing_Lab3\\Test_Scripts\\Test_cr_score.py\", line 17, in setUp\n",
      "    self.buyer1 = creditRating(20, 'own', 15000)\n",
      "NameError: name 'creditRating' is not defined\n",
      "\n",
      "======================================================================\n",
      "ERROR: test_cr_score_sum (Test_Scripts.Test_cr_score.Test_cr_score)\n",
      "----------------------------------------------------------------------\n",
      "Traceback (most recent call last):\n",
      "  File \"C:\\Users\\Luka\\OneDrive - The University Of British Columbia\\data_533\\labs\\lab3\\Testing_Lab3\\Test_Scripts\\Test_cr_score.py\", line 17, in setUp\n",
      "    self.buyer1 = creditRating(20, 'own', 15000)\n",
      "NameError: name 'creditRating' is not defined\n",
      "\n",
      "----------------------------------------------------------------------\n",
      "Ran 22 tests in 0.601s\n",
      "\n",
      "FAILED (errors=2)\n"
     ]
    }
   ],
   "source": [
    "def my_suite():\n",
    "    suite = unittest.TestSuite()\n",
    "    result = unittest.TestResult()\n",
    "    \n",
    "    suite.addTest(unittest.makeSuite(Test_mortgages_RealEstate))\n",
    "    suite.addTest(unittest.makeSuite(Test_mortgages_Residential))\n",
    "    suite.addTest(unittest.makeSuite(Test_mortgage_estimator_base_functions))\n",
    "    suite.addTest(unittest.makeSuite(Test_mortgage_estimator_propertyfilter))\n",
    "    \n",
    "    suite.addTest(unittest.makeSuite(Test_debtServiceRatio_ratio))\n",
    "    #suite.addTest(unittest.makeSuite(Test_debtServiceRatio_ratio_mortgage))\n",
    "    suite.addTest(unittest.makeSuite(Test_cr_conversion))\n",
    "    suite.addTest(unittest.makeSuite(Test_cr_score))\n",
    "\n",
    "    runner = unittest.TextTestRunner()\n",
    "    print(runner.run(suite))\n",
    "\n",
    "my_suite()"
   ]
  },
  {
   "cell_type": "code",
   "execution_count": null,
   "metadata": {},
   "outputs": [],
   "source": []
  }
 ],
 "metadata": {
  "kernelspec": {
   "display_name": "Python 3",
   "language": "python",
   "name": "python3"
  },
  "language_info": {
   "codemirror_mode": {
    "name": "ipython",
    "version": 3
   },
   "file_extension": ".py",
   "mimetype": "text/x-python",
   "name": "python",
   "nbconvert_exporter": "python",
   "pygments_lexer": "ipython3",
   "version": "3.8.3"
  }
 },
 "nbformat": 4,
 "nbformat_minor": 4
}
