{
 "cells": [
  {
   "cell_type": "code",
   "execution_count": null,
   "metadata": {},
   "outputs": [],
   "source": []
  },
  {
   "cell_type": "code",
   "execution_count": 132,
   "metadata": {},
   "outputs": [],
   "source": [
    "import unittest\n",
    "\n",
    "from Mortgage_Package.financial.creditRating import *\n",
    "from Mortgage_Package.financial.debtServiceRatio import *"
   ]
  },
  {
   "cell_type": "markdown",
   "metadata": {},
   "source": [
    "# creditRating.py\n",
    "## 1) test_cr_conversion.py"
   ]
  },
  {
   "cell_type": "code",
   "execution_count": 110,
   "metadata": {},
   "outputs": [
    {
     "name": "stderr",
     "output_type": "stream",
     "text": [
      "test_convert_age (__main__.Test_cr_conversion) ... ok\n",
      "test_convert_home (__main__.Test_cr_conversion) ... ok\n",
      "test_convert_income (__main__.Test_cr_conversion) ... ok\n",
      "test_cr_approval (__main__.Test_cr_score) ... ok\n",
      "test_cr_score_sum (__main__.Test_cr_score) ... ok\n",
      "test_min_dp (__main__.Test_debtServiceRatio_mortgage) ... ok\n",
      "test_mortgage_max (__main__.Test_debtServiceRatio_mortgage) ... ok\n",
      "test_dsr_gds (__main__.Test_debtServiceRatio_ratio) ... ok\n",
      "test_dsr_tds (__main__.Test_debtServiceRatio_ratio) ... "
     ]
    },
    {
     "name": "stdout",
     "output_type": "stream",
     "text": [
      "Class setup for Credit Rating Conversions\n",
      "start test\n",
      "test complete\n",
      "start test\n",
      "test complete\n",
      "start test\n",
      "test complete\n",
      "Class teardown for Credit Rating Conversions\n",
      "Class setup for Credit Rating Score\n",
      "start test\n",
      "Credit Score: 465. Not approved for loan.\n",
      "Credit Score: 400. Not approved for loan.\n",
      "Credit Score: 610. Approved for loan.\n",
      "Credit Score: 525. Approved for loan.\n",
      "Credit Score: 665. Approved for loan.\n",
      "Credit Score: 585. Approved for loan.\n",
      "Credit Score: 735. Approved for loan.\n",
      "test complete\n",
      "start test\n",
      "Credit Score: 465. Not approved for loan.\n",
      "Credit Score: 400. Not approved for loan.\n",
      "Credit Score: 610. Approved for loan.\n",
      "Credit Score: 525. Approved for loan.\n",
      "Credit Score: 665. Approved for loan.\n",
      "Credit Score: 585. Approved for loan.\n",
      "Credit Score: 735. Approved for loan.\n",
      "test complete\n",
      "Class teardown for Credit Rating Score\n",
      "Class setup for Mortgage Offer and Minimum Downpayment\n",
      "Class teardown for Mortgage Offer and Minimum Downpayment\n",
      "Class setup for Debt Service Ratio\n",
      "start test\n",
      "test complete\n",
      "start test\n",
      "test complete\n",
      "Class teardown for Debt Service Ratio\n"
     ]
    },
    {
     "name": "stderr",
     "output_type": "stream",
     "text": [
      "ok\n",
      "\n",
      "----------------------------------------------------------------------\n",
      "Ran 9 tests in 0.022s\n",
      "\n",
      "OK\n"
     ]
    },
    {
     "data": {
      "text/plain": [
       "<unittest.main.TestProgram at 0x7f838c3e9160>"
      ]
     },
     "execution_count": 110,
     "metadata": {},
     "output_type": "execute_result"
    }
   ],
   "source": [
    "class Test_cr_conversion(unittest.TestCase):\n",
    "\n",
    "    @classmethod\n",
    "    def setUpClass(cls):\n",
    "        print('Class setup for Credit Rating Conversions')\n",
    "\n",
    "    def setUp(self):\n",
    "        self.buyer1 = creditRating(20, 'own', 15000)\n",
    "        self.buyer2 = creditRating(25, 'rent', 20000)\n",
    "        self.buyer3 = creditRating(28, 'Own', 30000)\n",
    "        self.buyer4 = creditRating(30, 'Rent', 40000)\n",
    "        self.buyer5 = creditRating(35, 'OWN', 50000)\n",
    "        self.buyer6 = creditRating(40, 'RENT', 100000)\n",
    "        self.buyer7 = creditRating(50, 'oWn', 10000000)\n",
    "        print('start test')\n",
    "\n",
    "    def test_convert_age(self): #testcase1\n",
    "        self.assertEqual(self.buyer1.convert_age(), 100)\n",
    "        self.assertEqual(self.buyer2.convert_age(), 120) \n",
    "        self.assertEqual(self.buyer3.convert_age(), 185)\n",
    "        self.assertEqual(self.buyer4.convert_age(), 200)\n",
    "        self.assertEqual(self.buyer5.convert_age(), 210)\n",
    "        self.assertEqual(self.buyer6.convert_age(), 225)\n",
    "        self.assertEqual(self.buyer7.convert_age(), 250)\n",
    "        \n",
    "\n",
    "    def test_convert_home(self): #testcase2\n",
    "        self.assertEqual(self.buyer1.convert_home(), 225)\n",
    "        self.assertEqual(self.buyer2.convert_home(), 100)\n",
    "        self.assertEqual(self.buyer3.convert_home(), 225)\n",
    "        self.assertEqual(self.buyer4.convert_home(), 100)\n",
    "        self.assertEqual(self.buyer5.convert_home(), 225)\n",
    "        self.assertEqual(self.buyer6.convert_home(), 100)\n",
    "        self.assertEqual(self.buyer7.convert_home(), 225)\n",
    "        \n",
    "\n",
    "    def test_convert_income(self): #testcase3\n",
    "        self.assertEqual(self.buyer1.convert_income(), 140)\n",
    "        self.assertEqual(self.buyer2.convert_income(), 180)\n",
    "        self.assertEqual(self.buyer3.convert_income(), 200)\n",
    "        self.assertEqual(self.buyer4.convert_income(), 225)\n",
    "        self.assertEqual(self.buyer5.convert_income(), 230)\n",
    "        self.assertEqual(self.buyer6.convert_income(), 260)\n",
    "        self.assertEqual(self.buyer7.convert_income(), 260)\n",
    "        \n",
    "    def tearDown(self):\n",
    "        print('test complete')\n",
    "\n",
    "    @classmethod\n",
    "    def tearDownClass(cls):\n",
    "        print('Class teardown for Credit Rating Conversions')\n",
    "\n",
    "unittest.main(argv=[''], verbosity=2, exit=False) #delete before you submit"
   ]
  },
  {
   "cell_type": "markdown",
   "metadata": {},
   "source": [
    "## 2) test_cr_score.py"
   ]
  },
  {
   "cell_type": "code",
   "execution_count": 103,
   "metadata": {},
   "outputs": [
    {
     "name": "stderr",
     "output_type": "stream",
     "text": [
      "test_convert_age (__main__.Test_cr_conversion) ... ok\n",
      "test_convert_home (__main__.Test_cr_conversion) ... ok\n",
      "test_convert_income (__main__.Test_cr_conversion) ... ok\n",
      "test_cr_approval (__main__.Test_cr_score) ... ok\n",
      "test_cr_score_sum (__main__.Test_cr_score) ... ok\n",
      "test_min_dp (__main__.Test_debtServiceRatio_mortgage) ... ok\n",
      "test_mortgage_max (__main__.Test_debtServiceRatio_mortgage) ... ok\n",
      "test_dsr_gds (__main__.Test_debtServiceRatio_ratio) ... ok\n",
      "test_dsr_tds (__main__.Test_debtServiceRatio_ratio) ... "
     ]
    },
    {
     "name": "stdout",
     "output_type": "stream",
     "text": [
      "Class setup for Credit Rating Conversions\n",
      "start test\n",
      "test complete\n",
      "start test\n",
      "test complete\n",
      "start test\n",
      "test complete\n",
      "Class teardown for Credit Rating Conversions\n",
      "Class setup for Credit Rating Score\n",
      "start test\n",
      "Credit Score: 465. Not approved for loan.\n",
      "Credit Score: 400. Not approved for loan.\n",
      "Credit Score: 610. Approved for loan.\n",
      "Credit Score: 525. Approved for loan.\n",
      "Credit Score: 665. Approved for loan.\n",
      "Credit Score: 585. Approved for loan.\n",
      "Credit Score: 735. Approved for loan.\n",
      "test complete\n",
      "start test\n",
      "Credit Score: 465. Not approved for loan.\n",
      "Credit Score: 400. Not approved for loan.\n",
      "Credit Score: 610. Approved for loan.\n",
      "Credit Score: 525. Approved for loan.\n",
      "Credit Score: 665. Approved for loan.\n",
      "Credit Score: 585. Approved for loan.\n",
      "Credit Score: 735. Approved for loan.\n",
      "test complete\n",
      "Class teardown for Credit Rating Score\n",
      "Class setup for Mortgage Offer and Minimum Downpayment\n",
      "Class teardown for Mortgage Offer and Minimum Downpayment\n",
      "Class setup for Debt Service Ratio\n",
      "start test\n",
      "test complete\n",
      "start test\n",
      "test complete\n",
      "Class teardown for Debt Service Ratio\n"
     ]
    },
    {
     "name": "stderr",
     "output_type": "stream",
     "text": [
      "ok\n",
      "\n",
      "----------------------------------------------------------------------\n",
      "Ran 9 tests in 0.010s\n",
      "\n",
      "OK\n"
     ]
    },
    {
     "data": {
      "text/plain": [
       "<unittest.main.TestProgram at 0x7f838c47a6d0>"
      ]
     },
     "execution_count": 103,
     "metadata": {},
     "output_type": "execute_result"
    }
   ],
   "source": [
    "class Test_cr_score(unittest.TestCase):\n",
    "\n",
    "    @classmethod\n",
    "    def setUpClass(cls):\n",
    "        print('Class setup for Credit Rating Score')\n",
    "\n",
    "    def setUp(self):\n",
    "        self.buyer1 = creditRating(20, 'own', 15000)\n",
    "        self.buyer2 = creditRating(25, 'rent', 20000)\n",
    "        self.buyer3 = creditRating(28, 'Own', 30000)\n",
    "        self.buyer4 = creditRating(30, 'Rent', 40000)\n",
    "        self.buyer5 = creditRating(35, 'OWN', 50000)\n",
    "        self.buyer6 = creditRating(40, 'RENT', 100000)\n",
    "        self.buyer7 = creditRating(50, 'oWn', 10000000)\n",
    "        print('start test')\n",
    "        \n",
    "    def test_cr_score_sum(self): #testcase1\n",
    "        self.assertEqual(score(self.buyer1), 465)\n",
    "        self.assertEqual(score(self.buyer2), 400)\n",
    "        self.assertEqual(score(self.buyer3), 610)\n",
    "        self.assertEqual(score(self.buyer4), 525)\n",
    "        self.assertEqual(score(self.buyer5), 665)\n",
    "        self.assertEqual(score(self.buyer6), 585)\n",
    "        self.assertEqual(score(self.buyer7), 735)\n",
    "        \n",
    "    def test_cr_approval(self): #testcase2\n",
    "        self.assertTrue(score(self.buyer1) < 500)\n",
    "        self.assertTrue(score(self.buyer2) < 500)\n",
    "        self.assertTrue(score(self.buyer3) > 500)\n",
    "        self.assertTrue(score(self.buyer4) > 500)\n",
    "        self.assertTrue(score(self.buyer5) > 500)\n",
    "        self.assertTrue(score(self.buyer6) > 500)\n",
    "        self.assertTrue(score(self.buyer7) > 500)\n",
    "        \n",
    "    def tearDown(self):\n",
    "        print('test complete')\n",
    "\n",
    "    @classmethod\n",
    "    def tearDownClass(cls):\n",
    "        print('Class teardown for Credit Rating Score')\n",
    "        \n",
    "unittest.main(argv=[''], verbosity=2, exit=False) #delete before you submit"
   ]
  },
  {
   "cell_type": "markdown",
   "metadata": {},
   "source": [
    "# debtServiceRatio.py"
   ]
  },
  {
   "cell_type": "markdown",
   "metadata": {},
   "source": [
    "## 1) test_debtServiceRatio_ratio.py"
   ]
  },
  {
   "cell_type": "code",
   "execution_count": 101,
   "metadata": {},
   "outputs": [
    {
     "name": "stderr",
     "output_type": "stream",
     "text": [
      "test_convert_age (__main__.Test_cr_conversion) ... ok\n",
      "test_convert_home (__main__.Test_cr_conversion) ... ok\n",
      "test_convert_income (__main__.Test_cr_conversion) ... ok\n",
      "test_cr_approval (__main__.Test_cr_score) ... ok\n",
      "test_cr_score_sum (__main__.Test_cr_score) ... ok\n",
      "test_min_dp (__main__.Test_debtServiceRatio_mortgage) ... ok\n",
      "test_mortgage_max (__main__.Test_debtServiceRatio_mortgage) ... ok\n",
      "test_dsr_gds (__main__.Test_debtServiceRatio_ratio) ... ok\n",
      "test_dsr_tds (__main__.Test_debtServiceRatio_ratio) ... "
     ]
    },
    {
     "name": "stdout",
     "output_type": "stream",
     "text": [
      "Class setup for Credit Rating Conversions\n",
      "teardown\n",
      "teardown\n",
      "teardown\n",
      "Class teardown for Credit Rating Conversions\n",
      "Class setup for Credit Rating Score\n",
      "Credit Score: 465. Not approved for loan.\n",
      "Credit Score: 400. Not approved for loan.\n",
      "Credit Score: 610. Approved for loan.\n",
      "Credit Score: 525. Approved for loan.\n",
      "Credit Score: 665. Approved for loan.\n",
      "Credit Score: 585. Approved for loan.\n",
      "Credit Score: 735. Approved for loan.\n",
      "Credit Score: 465. Not approved for loan.\n",
      "Credit Score: 400. Not approved for loan.\n",
      "Credit Score: 610. Approved for loan.\n",
      "Credit Score: 525. Approved for loan.\n",
      "Credit Score: 665. Approved for loan.\n",
      "Credit Score: 585. Approved for loan.\n",
      "Credit Score: 735. Approved for loan.\n",
      "Class teardown for Credit Rating Score\n",
      "Class setup for Mortgage Offer and Minimum Downpayment\n",
      "Class teardown for Mortgage Offer and Minimum Downpayment\n",
      "Class setup for Debt Service Ratio\n",
      "start test\n",
      "test complete\n",
      "start test\n",
      "test complete\n",
      "Class teardown for Debt Service Ratio\n"
     ]
    },
    {
     "name": "stderr",
     "output_type": "stream",
     "text": [
      "ok\n",
      "\n",
      "----------------------------------------------------------------------\n",
      "Ran 9 tests in 0.014s\n",
      "\n",
      "OK\n"
     ]
    },
    {
     "data": {
      "text/plain": [
       "<unittest.main.TestProgram at 0x7f838c404ee0>"
      ]
     },
     "execution_count": 101,
     "metadata": {},
     "output_type": "execute_result"
    }
   ],
   "source": [
    "class Test_debtServiceRatio_ratio(unittest.TestCase):\n",
    "\n",
    "    @classmethod\n",
    "    def setUpClass(cls):\n",
    "        print('Class setup for Debt Service Ratio')\n",
    "\n",
    "    def setUp(self):\n",
    "        self.buyer1 = debtServiceRatio(15000, 2400, 720, 360, 4800, 50000, 750000)\n",
    "        self.buyer2 = debtServiceRatio(20000, 2400, 720, 360, 4800, 50000, 750000)\n",
    "        self.buyer3 = debtServiceRatio(30000, 2400, 720, 360, 4800, 50000, 750000)\n",
    "        self.buyer4 = debtServiceRatio(40000, 2400, 720, 360, 4800, 50000, 750000)\n",
    "        self.buyer5 = debtServiceRatio(50000, 2400, 720, 360, 4800, 50000, 750000)\n",
    "        self.buyer6 = debtServiceRatio(100000, 2400, 720, 360, 4800, 50000, 750000)\n",
    "        self.buyer7 = debtServiceRatio(10000000, 2400, 720, 360, 4800, 50000, 750000)\n",
    "        print('start test')\n",
    "\n",
    "    def test_dsr_gds(self): #testcase1: Max annual mortgage payment\n",
    "        self.assertEqual(self.buyer1.gds(), 1680)\n",
    "        self.assertEqual(self.buyer2.gds(), 3280)\n",
    "        self.assertEqual(self.buyer3.gds(), 6480)\n",
    "        self.assertEqual(self.buyer4.gds(), 9680)\n",
    "        self.assertEqual(self.buyer5.gds(), 12880)\n",
    "        self.assertEqual(self.buyer6.gds(), 28880)\n",
    "        self.assertEqual(self.buyer7.gds(), 50000)\n",
    "        #self.assertTrue(self.buyer1.downpayment > self.buyer1.gds.gds_max_mortgage_annual)\n",
    "\n",
    "    def test_dsr_tds(self): #testcase2\n",
    "        self.assertNotEqual(self.buyer1.tds(), 1680)\n",
    "        self.assertNotEqual(self.buyer2.tds(), 3280)\n",
    "        self.assertNotEqual(self.buyer3.tds(), 6480)\n",
    "        self.assertNotEqual(self.buyer4.tds(), 9680)\n",
    "        self.assertNotEqual(self.buyer5.tds(), 12880)\n",
    "        self.assertNotEqual(self.buyer6.tds(), 28880)\n",
    "        self.assertEqual(self.buyer7.tds(), 50000)\n",
    "\n",
    "    def tearDown(self):\n",
    "        print('test complete')\n",
    "\n",
    "    @classmethod\n",
    "    def tearDownClass(cls):\n",
    "        print('Class teardown for Debt Service Ratio')\n",
    "        \n",
    "unittest.main(argv=[''], verbosity=2, exit=False) #delete before you submit"
   ]
  },
  {
   "cell_type": "markdown",
   "metadata": {},
   "source": [
    "## 2) test_debtServiceRatio_mortgage.py"
   ]
  },
  {
   "cell_type": "code",
   "execution_count": 147,
   "metadata": {},
   "outputs": [
    {
     "name": "stderr",
     "output_type": "stream",
     "text": [
      "test_convert_age (__main__.Test_cr_conversion) ... ok\n",
      "test_convert_home (__main__.Test_cr_conversion) ... ok\n",
      "test_convert_income (__main__.Test_cr_conversion) ... ok\n",
      "test_cr_approval (__main__.Test_cr_score) ... ok\n",
      "test_cr_score_sum (__main__.Test_cr_score) ... ok\n",
      "test_min_dp (__main__.Test_debtServiceRatio_mortgage) ... ok\n",
      "test_mortgage_max (__main__.Test_debtServiceRatio_mortgage) ... ok\n",
      "test_dsr_gds (__main__.Test_debtServiceRatio_ratio) ... ok\n",
      "test_dsr_tds (__main__.Test_debtServiceRatio_ratio) ... "
     ]
    },
    {
     "name": "stdout",
     "output_type": "stream",
     "text": [
      "Class setup for Credit Rating Conversions\n",
      "start test\n",
      "test complete\n",
      "start test\n",
      "test complete\n",
      "start test\n",
      "test complete\n",
      "Class teardown for Credit Rating Conversions\n",
      "Class setup for Credit Rating Score\n",
      "start test\n",
      "Credit Score: 465. Not approved for loan.\n",
      "Credit Score: 400. Not approved for loan.\n",
      "Credit Score: 610. Approved for loan.\n",
      "Credit Score: 525. Approved for loan.\n",
      "Credit Score: 665. Approved for loan.\n",
      "Credit Score: 585. Approved for loan.\n",
      "Credit Score: 735. Approved for loan.\n",
      "test complete\n",
      "start test\n",
      "Credit Score: 465. Not approved for loan.\n",
      "Credit Score: 400. Not approved for loan.\n",
      "Credit Score: 610. Approved for loan.\n",
      "Credit Score: 525. Approved for loan.\n",
      "Credit Score: 665. Approved for loan.\n",
      "Credit Score: 585. Approved for loan.\n",
      "Credit Score: 735. Approved for loan.\n",
      "test complete\n",
      "Class teardown for Credit Rating Score\n",
      "Class setup for Mortgage Offer and Minimum Downpayment\n",
      "start test\n",
      "test complete\n",
      "start test\n",
      "test complete\n",
      "Class teardown for Mortgage Offer and Minimum Downpayment\n",
      "Class setup for Debt Service Ratio\n",
      "start test\n",
      "test complete\n",
      "start test\n",
      "test complete\n",
      "Class teardown for Debt Service Ratio\n"
     ]
    },
    {
     "name": "stderr",
     "output_type": "stream",
     "text": [
      "ok\n",
      "\n",
      "----------------------------------------------------------------------\n",
      "Ran 9 tests in 0.012s\n",
      "\n",
      "OK\n"
     ]
    },
    {
     "data": {
      "text/plain": [
       "<unittest.main.TestProgram at 0x7f838c3515e0>"
      ]
     },
     "execution_count": 147,
     "metadata": {},
     "output_type": "execute_result"
    }
   ],
   "source": [
    "class Test_debtServiceRatio_mortgage(unittest.TestCase):\n",
    "\n",
    "    @classmethod\n",
    "    def setUpClass(cls):\n",
    "        print('Class setup for Mortgage Offer and Minimum Downpayment')\n",
    "\n",
    "    def setUp(self):\n",
    "        self.buyer1 = debtServiceRatio(150000, 2400, 720, 360, 4800, 50000, 250000)\n",
    "        self.buyer2 = debtServiceRatio(200000, 2400, 720, 360, 4800, 50000, 500000)\n",
    "        self.buyer3 = debtServiceRatio(300000, 2400, 720, 360, 4800, 50000, 750000)\n",
    "        self.buyer4 = debtServiceRatio(400000, 2400, 720, 360, 4800, 50000, 1000000)\n",
    "        self.buyer5 = debtServiceRatio(500000, 2400, 720, 360, 4800, 50000, 2000000)\n",
    "        self.buyer6 = debtServiceRatio(1000000, 2400, 720, 360, 4800, 50000, 4000000)\n",
    "        self.buyer7 = debtServiceRatio(10000000, 2400, 720, 360, 4800, 50000, 8000000)\n",
    "        print('start test')\n",
    "\n",
    "    def test_mortgage_max(self): #testcase1\n",
    "        self.assertEqual(mortgage_max(self.buyer1), 1000000)\n",
    "        self.assertEqual(mortgage_max(self.buyer2), 1000000)\n",
    "        self.assertEqual(mortgage_max(self.buyer3), 500000)\n",
    "        self.assertEqual(mortgage_max(self.buyer4), 500000)\n",
    "        self.assertEqual(mortgage_max(self.buyer5), 250000)\n",
    "        self.assertEqual(mortgage_max(self.buyer6), 250000)\n",
    "        self.assertEqual(mortgage_max(self.buyer7), 250000)\n",
    "\n",
    "    def test_min_dp(self): #testcase2\n",
    "        self.assertEqual(min_dp(self.buyer1), 44880)\n",
    "        self.assertEqual(min_dp(self.buyer2), 50000)\n",
    "        self.assertEqual(min_dp(self.buyer3), 50000)\n",
    "        self.assertEqual(min_dp(self.buyer4), 50000)\n",
    "        self.assertEqual(min_dp(self.buyer5), 50000)\n",
    "        self.assertEqual(min_dp(self.buyer6), 50000)\n",
    "        self.assertEqual(min_dp(self.buyer7), 50000)\n",
    "\n",
    "    def tearDown(self):\n",
    "        print('test complete')\n",
    "\n",
    "    @classmethod\n",
    "    def tearDownClass(cls):\n",
    "        print('Class teardown for Mortgage Offer and Minimum Downpayment')\n",
    "        \n",
    "unittest.main(argv=[''], verbosity=2, exit=False) #delete before you submit"
   ]
  },
  {
   "cell_type": "code",
   "execution_count": null,
   "metadata": {},
   "outputs": [],
   "source": []
  }
 ],
 "metadata": {
  "kernelspec": {
   "display_name": "Python 3",
   "language": "python",
   "name": "python3"
  },
  "language_info": {
   "codemirror_mode": {
    "name": "ipython",
    "version": 3
   },
   "file_extension": ".py",
   "mimetype": "text/x-python",
   "name": "python",
   "nbconvert_exporter": "python",
   "pygments_lexer": "ipython3",
   "version": "3.8.3"
  }
 },
 "nbformat": 4,
 "nbformat_minor": 4
}
